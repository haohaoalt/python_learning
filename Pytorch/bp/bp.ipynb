{
 "cells": [
  {
   "cell_type": "code",
   "execution_count": null,
   "id": "c74cb15c-773c-4e89-ab3b-4789c9801294",
   "metadata": {},
   "outputs": [],
   "source": [
    "import torch \n",
    "import torch.nn.functional as F\n",
    "# 定义样本数值\n",
    "x1 = torch.tensor(1)\n",
    "x2 = torch.tensor(2)\n",
    "Y = torch.tensor(2)\n",
    "\n",
    "# 参数初始化\n",
    "w11 = torch.tensor(1.0, requires_grad=True)\n",
    "w12 = torch.tensor(1.0, requires_grad=True)\n",
    "w21 = torch.tensor(1.0, requires_grad=True)\n",
    "w22 = torch.tensor(-1.0, requires_grad=True)\n",
    "w1 = torch.tensor(1.0, requires_grad=True)\n",
    "w2 = torch.tensor(-1.0, requires_grad=True)\n",
    "b11, b12, b21 = torch.tensor([1., 1., 1.], requires_grad=True)"
   ]
  },
  {
   "cell_type": "code",
   "execution_count": null,
   "id": "321670e5-9a6b-46a6-8430-ccd032fde615",
   "metadata": {},
   "outputs": [],
   "source": [
    "lr = 0.01\n",
    "# 前向传播\n",
    "z1 = x1 * w11 + x2 * w21 + b11\n",
    "a1 = F.relu(z1)\n",
    "z2 = x1 * w12 + x2 * w22 + b12\n",
    "a2 = F.relu(z2)\n",
    "y = a1 * w1 + a2 * w2 + b21"
   ]
  },
  {
   "cell_type": "code",
   "execution_count": null,
   "id": "dba0489b-e051-4886-b273-2f6401637a72",
   "metadata": {},
   "outputs": [],
   "source": [
    "# 求损失\n",
    "loss =(y - Y).pow(2)/2"
   ]
  },
  {
   "cell_type": "code",
   "execution_count": null,
   "id": "580bb037-2f81-4c10-9fbd-84c6dbd1244a",
   "metadata": {},
   "outputs": [],
   "source": [
    "# 求参数梯度\n",
    "w11_grad = (y-Y) * w1 * 1 * x1"
   ]
  },
  {
   "cell_type": "code",
   "execution_count": null,
   "id": "5a13d66f-088c-455d-8ab8-380cb3b4d4fb",
   "metadata": {},
   "outputs": [],
   "source": [
    "w11_grad"
   ]
  },
  {
   "cell_type": "code",
   "execution_count": null,
   "id": "dd219367-dcf0-4b68-a697-531c69e0327f",
   "metadata": {},
   "outputs": [],
   "source": []
  }
 ],
 "metadata": {
  "kernelspec": {
   "display_name": "Python 3 (ipykernel)",
   "language": "python",
   "name": "python3"
  },
  "language_info": {
   "codemirror_mode": {
    "name": "ipython",
    "version": 3
   },
   "file_extension": ".py",
   "mimetype": "text/x-python",
   "name": "python",
   "nbconvert_exporter": "python",
   "pygments_lexer": "ipython3",
   "version": "3.9.19"
  }
 },
 "nbformat": 4,
 "nbformat_minor": 5
}
